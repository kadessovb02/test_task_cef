{
 "cells": [
  {
   "cell_type": "code",
   "execution_count": 2,
   "id": "cad5bd6a",
   "metadata": {},
   "outputs": [
    {
     "name": "stdout",
     "output_type": "stream",
     "text": [
      "4.11.0\n"
     ]
    }
   ],
   "source": [
    "!python -c \"import cv2; print(cv2.__version__)\""
   ]
  },
  {
   "cell_type": "code",
   "execution_count": null,
   "id": "65efa828",
   "metadata": {},
   "outputs": [
    {
     "name": "stdout",
     "output_type": "stream",
     "text": [
      "/Users/kadessovb02/Desktop/test_tasks/test-task-cef/.venv/bin/python\n",
      "/Users/kadessovb02/Desktop/test_tasks/test-task-cef/.venv/bin/python\n"
     ]
    }
   ],
   "source": [
    "!which python\n",
    "!python -c \"import sys; print(sys.executable)\"\n"
   ]
  },
  {
   "cell_type": "code",
   "execution_count": 4,
   "id": "26d84a01",
   "metadata": {},
   "outputs": [
    {
     "name": "stdout",
     "output_type": "stream",
     "text": [
      "Requirement already satisfied: ipykernel in ./.venv/lib/python3.12/site-packages (6.29.5)\n",
      "Requirement already satisfied: appnope in ./.venv/lib/python3.12/site-packages (from ipykernel) (0.1.4)\n",
      "Requirement already satisfied: comm>=0.1.1 in ./.venv/lib/python3.12/site-packages (from ipykernel) (0.2.2)\n",
      "Requirement already satisfied: debugpy>=1.6.5 in ./.venv/lib/python3.12/site-packages (from ipykernel) (1.8.14)\n",
      "Requirement already satisfied: ipython>=7.23.1 in ./.venv/lib/python3.12/site-packages (from ipykernel) (9.3.0)\n",
      "Requirement already satisfied: jupyter-client>=6.1.12 in ./.venv/lib/python3.12/site-packages (from ipykernel) (8.6.3)\n",
      "Requirement already satisfied: jupyter-core!=5.0.*,>=4.12 in ./.venv/lib/python3.12/site-packages (from ipykernel) (5.8.1)\n",
      "Requirement already satisfied: matplotlib-inline>=0.1 in ./.venv/lib/python3.12/site-packages (from ipykernel) (0.1.7)\n",
      "Requirement already satisfied: nest-asyncio in ./.venv/lib/python3.12/site-packages (from ipykernel) (1.6.0)\n",
      "Requirement already satisfied: packaging in ./.venv/lib/python3.12/site-packages (from ipykernel) (25.0)\n",
      "Requirement already satisfied: psutil in ./.venv/lib/python3.12/site-packages (from ipykernel) (7.0.0)\n",
      "Requirement already satisfied: pyzmq>=24 in ./.venv/lib/python3.12/site-packages (from ipykernel) (26.4.0)\n",
      "Requirement already satisfied: tornado>=6.1 in ./.venv/lib/python3.12/site-packages (from ipykernel) (6.5.1)\n",
      "Requirement already satisfied: traitlets>=5.4.0 in ./.venv/lib/python3.12/site-packages (from ipykernel) (5.14.3)\n",
      "Requirement already satisfied: decorator in ./.venv/lib/python3.12/site-packages (from ipython>=7.23.1->ipykernel) (5.2.1)\n",
      "Requirement already satisfied: ipython-pygments-lexers in ./.venv/lib/python3.12/site-packages (from ipython>=7.23.1->ipykernel) (1.1.1)\n",
      "Requirement already satisfied: jedi>=0.16 in ./.venv/lib/python3.12/site-packages (from ipython>=7.23.1->ipykernel) (0.19.2)\n",
      "Requirement already satisfied: pexpect>4.3 in ./.venv/lib/python3.12/site-packages (from ipython>=7.23.1->ipykernel) (4.9.0)\n",
      "Requirement already satisfied: prompt_toolkit<3.1.0,>=3.0.41 in ./.venv/lib/python3.12/site-packages (from ipython>=7.23.1->ipykernel) (3.0.51)\n",
      "Requirement already satisfied: pygments>=2.4.0 in ./.venv/lib/python3.12/site-packages (from ipython>=7.23.1->ipykernel) (2.19.1)\n",
      "Requirement already satisfied: stack_data in ./.venv/lib/python3.12/site-packages (from ipython>=7.23.1->ipykernel) (0.6.3)\n",
      "Requirement already satisfied: wcwidth in ./.venv/lib/python3.12/site-packages (from prompt_toolkit<3.1.0,>=3.0.41->ipython>=7.23.1->ipykernel) (0.2.13)\n",
      "Requirement already satisfied: parso<0.9.0,>=0.8.4 in ./.venv/lib/python3.12/site-packages (from jedi>=0.16->ipython>=7.23.1->ipykernel) (0.8.4)\n",
      "Requirement already satisfied: python-dateutil>=2.8.2 in ./.venv/lib/python3.12/site-packages (from jupyter-client>=6.1.12->ipykernel) (2.9.0.post0)\n",
      "Requirement already satisfied: platformdirs>=2.5 in ./.venv/lib/python3.12/site-packages (from jupyter-core!=5.0.*,>=4.12->ipykernel) (4.3.8)\n",
      "Requirement already satisfied: ptyprocess>=0.5 in ./.venv/lib/python3.12/site-packages (from pexpect>4.3->ipython>=7.23.1->ipykernel) (0.7.0)\n",
      "Requirement already satisfied: six>=1.5 in ./.venv/lib/python3.12/site-packages (from python-dateutil>=2.8.2->jupyter-client>=6.1.12->ipykernel) (1.17.0)\n",
      "Requirement already satisfied: executing>=1.2.0 in ./.venv/lib/python3.12/site-packages (from stack_data->ipython>=7.23.1->ipykernel) (2.2.0)\n",
      "Requirement already satisfied: asttokens>=2.1.0 in ./.venv/lib/python3.12/site-packages (from stack_data->ipython>=7.23.1->ipykernel) (3.0.0)\n",
      "Requirement already satisfied: pure-eval in ./.venv/lib/python3.12/site-packages (from stack_data->ipython>=7.23.1->ipykernel) (0.2.3)\n",
      "Installed kernelspec face-env in /Users/kadessovb02/Library/Jupyter/kernels/face-env\n"
     ]
    }
   ],
   "source": [
    "!pip install ipykernel\n",
    "!python -m ipykernel install --user --name face-env --display-name \"Python (face-env)\"\n"
   ]
  },
  {
   "cell_type": "code",
   "execution_count": 20,
   "id": "a5431f29",
   "metadata": {},
   "outputs": [],
   "source": [
    "from __future__ import annotations\n",
    "import pathlib\n",
    "import math\n",
    "import logging\n",
    "from typing import Sequence, Optional, List\n",
    "import numpy as np\n",
    "from fastapi import UploadFile, HTTPException, status\n",
    "from dataclasses import dataclass\n",
    "from src import PROJECT_ROOT\n",
    "import cv2"
   ]
  },
  {
   "cell_type": "code",
   "execution_count": 23,
   "id": "fa9ac281",
   "metadata": {},
   "outputs": [
    {
     "name": "stdout",
     "output_type": "stream",
     "text": [
      "*******\n",
      "/Users/kadessovb02/Desktop/test_tasks/test-task-cef/src/ml_models/deploy.prototxt /Users/kadessovb02/Desktop/test_tasks/test-task-cef/src/ml_models/res10_300x300_ssd_iter_140000.caffemodel /Users/kadessovb02/Desktop/test_tasks/test-task-cef/src/ml_models/nn4.small2.v1.t7\n",
      "*******\n"
     ]
    }
   ],
   "source": [
    "@dataclass(slots=True)\n",
    "class FaceIdentity:\n",
    "    person_id: str\n",
    "    embedding: Sequence[float]\n",
    "\n",
    "    def __repr__(self) -> str:\n",
    "        return f\"<FaceIdentity {self.person_id[:20]}...>\"\n",
    "face_detector_prototxt = PROJECT_ROOT / \"src/ml_models/deploy.prototxt\"\n",
    "face_detector_model = PROJECT_ROOT / \"src/ml_models/res10_300x300_ssd_iter_140000.caffemodel\"\n",
    "face_embedder_model = PROJECT_ROOT / \"src/ml_models/nn4.small2.v1.t7\"\n",
    "print('*'*7)\n",
    "print(face_detector_prototxt, face_detector_model, face_embedder_model)\n",
    "print('*'*7)\n",
    "faces: List[FaceIdentity] = []\n",
    "detector = cv2.dnn.readNetFromCaffe(\n",
    "            face_detector_prototxt,\n",
    "            face_detector_model,\n",
    "        )\n",
    "embedder = cv2.dnn.readNetFromTorch(face_embedder_model)"
   ]
  },
  {
   "cell_type": "code",
   "execution_count": 57,
   "id": "b178edab",
   "metadata": {},
   "outputs": [
    {
     "name": "stdout",
     "output_type": "stream",
     "text": [
      "/Users/kadessovb02/Desktop/test_tasks/test-task-cef/faces_db\n"
     ]
    }
   ],
   "source": [
    "faces_db_path = PROJECT_ROOT / \"faces_db\"\n",
    "print(faces_db_path)\n",
    "faces: List[FaceIdentity] = []\n"
   ]
  },
  {
   "cell_type": "code",
   "execution_count": 68,
   "id": "aae2d93f",
   "metadata": {},
   "outputs": [
    {
     "data": {
      "text/plain": [
       "PosixPath('/Users/kadessovb02/Desktop/test_tasks/test-task-cef/tests/images')"
      ]
     },
     "execution_count": 68,
     "metadata": {},
     "output_type": "execute_result"
    }
   ],
   "source": [
    "test_faces_db_path = PROJECT_ROOT / \"tests/images\"\n",
    "test_faces_db_path"
   ]
  },
  {
   "cell_type": "code",
   "execution_count": 58,
   "id": "b8b13aff",
   "metadata": {},
   "outputs": [],
   "source": [
    "def read_image_from_upload(file: UploadFile) -> np.ndarray:\n",
    "    content = file.file.read()\n",
    "    nparr = np.frombuffer(content, np.uint8)\n",
    "    img = cv2.imdecode(nparr, cv2.IMREAD_COLOR)\n",
    "    if img is None:\n",
    "        raise ValueError(\"Cannot decode image from upload\")\n",
    "    return img\n",
    "\n"
   ]
  },
  {
   "cell_type": "code",
   "execution_count": 59,
   "id": "c49c36dc",
   "metadata": {},
   "outputs": [],
   "source": [
    "def extract_embedding(img: np.ndarray) -> List[float]:\n",
    "        h, w = img.shape[:2]\n",
    "        blob = cv2.dnn.blobFromImage(img, 1.0, (300, 300), (104, 177, 123))\n",
    "        detector.setInput(blob)\n",
    "        detections = detector.forward()\n",
    "\n",
    "        if detections.shape[2] == 0:\n",
    "            raise ValueError(\"No face detected\")\n",
    "        i = np.argmax(detections[0, 0, :, 2])\n",
    "        conf = float(detections[0, 0, i, 2])\n",
    "        if conf < 0.5:\n",
    "            raise ValueError(\"Low confidence face\")\n",
    "\n",
    "        box = detections[0, 0, i, 3:7] * np.array([w, h, w, h])\n",
    "        x1, y1, x2, y2 = box.astype(int)\n",
    "        face = img[y1:y2, x1:x2]\n",
    "        if face.size == 0:\n",
    "            raise ValueError(\"Empty face crop\")\n",
    "\n",
    "        face_blob = cv2.dnn.blobFromImage(face, 1/255, (96, 96), (0, 0, 0), swapRB=True)\n",
    "        embedder.setInput(face_blob)\n",
    "        vec = embedder.forward().flatten()\n",
    "        return vec.tolist()"
   ]
  },
  {
   "cell_type": "code",
   "execution_count": 60,
   "id": "91774a47",
   "metadata": {},
   "outputs": [],
   "source": [
    "import itertools\n",
    "\n",
    "def preload_faces() -> None:\n",
    "    db_dir = pathlib.Path(faces_db_path)\n",
    "    faces.clear()\n",
    "    # for img_path in db_dir.glob(\"*.jpg\") | db_dir.glob(\"*.png\"):\n",
    "    for img_path in itertools.chain(db_dir.glob(\"*.jpg\"), db_dir.glob(\"*.png\")):\n",
    "    # for img_path in db_dir.glob(\"*.jpg\") | db_dir.glob(\"*.png\"):\n",
    "        image = cv2.imread(str(img_path))\n",
    "        if image is None:\n",
    "            continue\n",
    "        vec = extract_embedding(image)\n",
    "        faces.append(FaceIdentity(person_id=img_path.stem, embedding=vec))\n",
    "            "
   ]
  },
  {
   "cell_type": "code",
   "execution_count": 61,
   "id": "65a5cf0d",
   "metadata": {},
   "outputs": [],
   "source": [
    "preload_faces()"
   ]
  },
  {
   "cell_type": "code",
   "execution_count": 62,
   "id": "903bb3e7",
   "metadata": {},
   "outputs": [
    {
     "data": {
      "text/plain": [
       "[<FaceIdentity Jeff Bezos...>,\n",
       " <FaceIdentity Elon Musk...>,\n",
       " <FaceIdentity Kadessov Bek...>]"
      ]
     },
     "execution_count": 62,
     "metadata": {},
     "output_type": "execute_result"
    }
   ],
   "source": [
    "faces"
   ]
  },
  {
   "cell_type": "code",
   "execution_count": 63,
   "id": "414ff003",
   "metadata": {},
   "outputs": [
    {
     "name": "stdout",
     "output_type": "stream",
     "text": [
      "128 [0.09934961050748825, 0.04149291291832924, -0.1650935262441635, -0.0003136911545880139, 0.00474608363583684, 0.12053040415048599, -0.0010250459890812635, -0.009359359741210938, -0.06061220169067383, -0.06617451459169388, -0.005281899124383926, 0.11030469834804535, -0.017715172842144966, -0.18636386096477509, -0.14680549502372742, 0.022222885861992836, -0.06705533713102341, -0.041599638760089874, -0.03404179960489273, 0.13302743434906006, 0.06322041898965836, -0.027591286227107048, 0.11977212131023407, 0.00868282187730074, -0.07403411716222763, 0.10103972256183624, 0.0781090259552002, -0.2406017780303955, -0.04960612207651138, 0.02755623124539852, -0.10688519477844238, 0.05227252095937729, 0.010951279662549496, 0.09245490282773972, -0.04439910501241684, -0.0798986628651619, 0.021238133311271667, 0.23190201818943024, -0.03246373310685158, 0.005048909690231085, -0.04185359552502632, -0.07701095193624496, -0.05027305334806442, 0.07801036536693573, -0.10892353951931, 0.05636750906705856, 0.1781972050666809, -0.09017720073461533, -0.1538083553314209, 0.155251145362854, 0.09158720076084137, 0.03797299042344093, -0.041865039616823196, 0.09557715803384781, 0.12461961805820465, -0.055418722331523895, 0.13744954764842987, 0.04448823630809784, -0.004737233277410269, -0.12156049907207489, -0.006127225700765848, -0.08659912645816803, 0.21825478971004486, -0.11006481200456619, 0.10386861860752106, -0.20246481895446777, -0.01920505426824093, 0.029956066980957985, 0.0026364957448095083, 0.12074191123247147, -0.059386495500802994, 0.005580578930675983, -0.07024089992046356, 0.10001788288354874, 0.020629700273275375, -0.04128257557749748, -0.021653365343809128, 0.06867058575153351, -0.04247576370835304, 0.07580331712961197, -0.0960264801979065, 0.049036212265491486, -0.002222309121862054, -0.05478496849536896, -0.036254771053791046, -0.03290851041674614, 0.03349678963422775, 0.02658631093800068, 0.04961894080042839, -0.0021366861183196306, 0.013174436055123806, -0.1391877681016922, -0.09955544769763947, -0.024772493168711662, 0.026381246745586395, -0.029619207605719566, 0.10902861505746841, 0.07949400693178177, 0.06783558428287506, -0.05005635321140289, -0.03182212635874748, 0.0460997074842453, -0.051717810332775116, 0.18967647850513458, -0.06973384320735931, -0.07632920145988464, -0.07674726843833923, 0.1272856593132019, -0.06669482588768005, -0.08477398008108139, 0.03812160715460777, 0.17243215441703796, -0.02498597837984562, -0.010521555319428444, 0.060668691992759705, 0.025656411424279213, -0.06941506266593933, -0.1824323683977127, 0.06412927806377411, 0.08635549247264862, 0.02617335319519043, 0.10535985976457596, 0.1214122474193573, 0.003250561188906431, 0.08053389191627502, -0.01858588121831417, 0.0886315107345581, -0.040363654494285583]\n"
     ]
    }
   ],
   "source": [
    "print(len(faces[0].embedding), faces[0].embedding)"
   ]
  },
  {
   "cell_type": "code",
   "execution_count": null,
   "id": "fae10b2e",
   "metadata": {},
   "outputs": [],
   "source": [
    "def find_best_match(query_vec: Sequence[float]) -> tuple[Optional[str], float]:\n",
    "    best_dist = float(\"inf\")\n",
    "    best_id: Optional[str] = None\n",
    "    for face in faces:\n",
    "        dist = math.sqrt(sum((a - b) ** 2 for a, b in zip(query_vec, face.embedding)))\n",
    "        if dist < best_dist:\n",
    "            best_dist = dist\n",
    "            best_id = face.person_id\n",
    "    return best_id, best_dist"
   ]
  },
  {
   "cell_type": "code",
   "execution_count": 69,
   "id": "b914f107",
   "metadata": {},
   "outputs": [
    {
     "data": {
      "text/plain": [
       "[0.027442537248134613,\n",
       " 0.1894277036190033,\n",
       " -0.0011587596964091063,\n",
       " 0.10580896586179733,\n",
       " -0.03773779049515724,\n",
       " 0.09486744552850723,\n",
       " 0.04390466958284378,\n",
       " 0.09131211042404175,\n",
       " 0.007595520466566086,\n",
       " 0.13407981395721436,\n",
       " 0.11734998226165771,\n",
       " 0.027498874813318253,\n",
       " 0.03243325650691986,\n",
       " -0.24171532690525055,\n",
       " 0.01714860461652279,\n",
       " 0.004412617534399033,\n",
       " 0.01240317802876234,\n",
       " 0.019538521766662598,\n",
       " -0.05877901613712311,\n",
       " 0.08429515361785889,\n",
       " 0.06997723877429962,\n",
       " -0.14103847742080688,\n",
       " 0.017193503677845,\n",
       " 0.097173310816288,\n",
       " 0.05855156481266022,\n",
       " -0.07557552307844162,\n",
       " -0.031100217252969742,\n",
       " -0.15695525705814362,\n",
       " 0.050338808447122574,\n",
       " 0.02772817201912403,\n",
       " 0.022570515051484108,\n",
       " 0.017025746405124664,\n",
       " 0.054726894944906235,\n",
       " 0.10765837132930756,\n",
       " -0.05356697365641594,\n",
       " -0.06515446305274963,\n",
       " 0.06806477159261703,\n",
       " 0.11559437215328217,\n",
       " -0.033805541694164276,\n",
       " -0.023154711350798607,\n",
       " 0.03594580292701721,\n",
       " -0.1638757437467575,\n",
       " -0.016527719795703888,\n",
       " 0.019621869549155235,\n",
       " -0.07947929203510284,\n",
       " -0.06879837065935135,\n",
       " 0.1327817589044571,\n",
       " -0.06989254057407379,\n",
       " -0.12578658759593964,\n",
       " 0.03390074148774147,\n",
       " 0.1478862315416336,\n",
       " 0.08912299573421478,\n",
       " -0.13525255024433136,\n",
       " 0.009405207820236683,\n",
       " 0.07032457739114761,\n",
       " 0.032477088272571564,\n",
       " -0.008901500143110752,\n",
       " -0.11821875721216202,\n",
       " 0.02321501635015011,\n",
       " -0.09784745424985886,\n",
       " -0.08883635699748993,\n",
       " -0.19968076050281525,\n",
       " 0.01513706799596548,\n",
       " -0.17553989589214325,\n",
       " 0.08895699679851532,\n",
       " -0.091248519718647,\n",
       " 0.0189093928784132,\n",
       " -0.05176367983222008,\n",
       " -0.09008178859949112,\n",
       " 0.07141345739364624,\n",
       " -0.04613226279616356,\n",
       " 0.06931141763925552,\n",
       " -0.11690002679824829,\n",
       " 0.04229719564318657,\n",
       " 0.07384730875492096,\n",
       " -0.042303282767534256,\n",
       " 0.029239462688565254,\n",
       " 0.23922769725322723,\n",
       " -0.007928929291665554,\n",
       " 0.09174323081970215,\n",
       " -0.20953117311000824,\n",
       " -0.026864638552069664,\n",
       " 0.055347904562950134,\n",
       " 0.040693674236536026,\n",
       " 0.05796260014176369,\n",
       " 0.04748560115695,\n",
       " 0.042209576815366745,\n",
       " 0.005769667215645313,\n",
       " 0.09797120839357376,\n",
       " -0.006096064578741789,\n",
       " -0.09420615434646606,\n",
       " -0.12848155200481415,\n",
       " -0.06810709089040756,\n",
       " -0.013141409493982792,\n",
       " -0.07227634638547897,\n",
       " -0.12310799211263657,\n",
       " 0.04561624675989151,\n",
       " 0.0009627860272303224,\n",
       " -0.0038483019452542067,\n",
       " -0.053219545632600784,\n",
       " -0.03882170468568802,\n",
       " 0.03592686355113983,\n",
       " -0.0076928576454520226,\n",
       " 0.142776221036911,\n",
       " 0.011950396001338959,\n",
       " 0.0014282634947448969,\n",
       " 0.020308878272771835,\n",
       " 0.12203355133533478,\n",
       " 0.06446132063865662,\n",
       " -0.08858636021614075,\n",
       " -0.1333378553390503,\n",
       " 0.10785946995019913,\n",
       " -0.0702415332198143,\n",
       " -0.03544830158352852,\n",
       " 0.10860444605350494,\n",
       " -0.07159458100795746,\n",
       " -0.05433349683880806,\n",
       " -0.15353964269161224,\n",
       " 0.055280886590480804,\n",
       " 0.1387254297733307,\n",
       " 0.02763064205646515,\n",
       " 0.0948481634259224,\n",
       " -0.014543137513101101,\n",
       " 0.14650310575962067,\n",
       " 0.13932694494724274,\n",
       " -0.0020893614273518324,\n",
       " 0.15191547572612762,\n",
       " 0.014026620425283909]"
      ]
     },
     "execution_count": 69,
     "metadata": {},
     "output_type": "execute_result"
    }
   ],
   "source": [
    "image = cv2.imread(str(test_faces_db_path / 'Bek.jpg'))\n",
    "vec = extract_embedding(image)\n",
    "vec"
   ]
  },
  {
   "cell_type": "code",
   "execution_count": 70,
   "id": "f4541112",
   "metadata": {},
   "outputs": [
    {
     "data": {
      "text/plain": [
       "('Kadessov Bek', 0.7895003309527409)"
      ]
     },
     "execution_count": 70,
     "metadata": {},
     "output_type": "execute_result"
    }
   ],
   "source": [
    "find_best_match(vec)"
   ]
  },
  {
   "cell_type": "code",
   "execution_count": null,
   "id": "8059c739",
   "metadata": {},
   "outputs": [],
   "source": []
  }
 ],
 "metadata": {
  "kernelspec": {
   "display_name": "Python 3 (ipykernel)",
   "language": "python",
   "name": "python3"
  }
 },
 "nbformat": 4,
 "nbformat_minor": 5
}
